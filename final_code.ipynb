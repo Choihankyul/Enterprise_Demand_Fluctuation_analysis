{
  "nbformat": 4,
  "nbformat_minor": 5,
  "metadata": {
    "kernelspec": {
      "display_name": "Python 3",
      "language": "python",
      "name": "python3"
    },
    "language_info": {
      "codemirror_mode": {
        "name": "ipython",
        "version": 3
      },
      "file_extension": ".py",
      "mimetype": "text/x-python",
      "name": "python",
      "nbconvert_exporter": "python",
      "pygments_lexer": "ipython3",
      "version": "3.8.3"
    },
    "colab": {
      "name": "final_code.ipynb",
      "provenance": [],
      "collapsed_sections": [],
      "include_colab_link": true
    }
  },
  "cells": [
    {
      "cell_type": "markdown",
      "metadata": {
        "id": "view-in-github",
        "colab_type": "text"
      },
      "source": [
        "<a href=\"https://colab.research.google.com/github/Choihankyul/Enterprise_Demand_Fluctuation_analysis/blob/main/final_code.ipynb\" target=\"_parent\"><img src=\"https://colab.research.google.com/assets/colab-badge.svg\" alt=\"Open In Colab\"/></a>"
      ]
    },
    {
      "cell_type": "code",
      "metadata": {
        "id": "2d190c60"
      },
      "source": [
        "import warnings\n",
        "warnings.filterwarnings('ignore')\n",
        "from matplotlib import rc\n",
        "import matplotlib.pyplot as plt # 한글\n",
        "rc('font',family='Malgun Gothic')\n",
        "plt.rcParams['axes.unicode_minus'] = False # 마이너스 부호\n",
        "import os\n",
        "import pandas as pd\n",
        "import seaborn as sns\n",
        "import numpy as np\n",
        "from IPython.core.display import HTML\n",
        "import time\n",
        "import re"
      ],
      "id": "2d190c60",
      "execution_count": null,
      "outputs": []
    },
    {
      "cell_type": "code",
      "metadata": {
        "id": "4075e769"
      },
      "source": [
        "path = 'dataset' \n",
        "file_list = os.listdir(path)\n",
        "\n",
        "ldata = {}\n",
        "keys = []\n",
        "for file in file_list:\n",
        "    data = pd.read_csv(f'dataset/{file}',encoding='cp949')\n",
        "    file_name = file.replace('.txt','')\n",
        "    ldata[file_name]=data\n",
        "    keys.append(file_name)\n",
        "\n",
        "def 반기(year,quarter):\n",
        "    if (year==2014) & (quarter in [1,2]):\n",
        "        return 1\n",
        "    elif (year==2014) & (quarter in [3,4]):\n",
        "        return 2\n",
        "    elif (year==2015) & (quarter in [1,2]):\n",
        "        return 3\n",
        "    else:\n",
        "        return 4\n",
        "    \n",
        "ldata['purprd']['구매일자'] = pd.to_datetime(ldata['purprd']['구매일자'],format='%Y%m%d')\n",
        "ldata['purprd']['year'] = ldata['purprd']['구매일자'].dt.year\n",
        "ldata['purprd']['quarter'] = ldata['purprd']['구매일자'].dt.quarter\n",
        "ldata['purprd']['half'] = ldata['purprd'].apply(lambda x: 반기(x['year'],x['quarter']),axis=1)\n",
        "\n",
        "productcat = pd.read_excel('상품분류4차.xlsx')\n",
        "ldata['purprd'] = ldata['purprd'].merge(productcat[['소분류코드','분석대분류명','분류1']],on='소분류코드')\n",
        "ldata['purprd'] = ldata['purprd'].merge(ldata['prodcat'][['소분류코드','중분류명','소분류명']], on='소분류코드')\n",
        "ldata['purprd'].rename(columns={'분석대분류명':'대분류명'},inplace=True)\n",
        "ldata['purprd'].drop(['대분류코드','중분류코드','점포코드','구매시간']\n",
        "                     ,axis=1,inplace=True)\n",
        "ldata['purprd'] = ldata['purprd'][ldata['purprd'].제휴사!=\"D\"]\n",
        "ldata['cust']['거주지역'].fillna(0,inplace=True)"
      ],
      "id": "4075e769",
      "execution_count": null,
      "outputs": []
    },
    {
      "cell_type": "code",
      "metadata": {
        "id": "4bb234ee"
      },
      "source": [
        "li = []\n",
        "for i in ldata['purprd']['대분류명'].unique():\n",
        "    cat1_mean = round(ldata['purprd'].query(f\"대분류명=='{i}'\")['구매금액'].mean())\n",
        "    li.append([i,cat1_mean])    \n",
        "대분류평균금액 = pd.DataFrame(li,columns=['대분류명','대분류평균금액'])\n",
        "\n",
        "li = []\n",
        "for x in ldata['purprd']['대분류명'].unique():\n",
        "    df = ldata['purprd'].query(f\"대분류명=='{x}'\")\n",
        "    for y in df['중분류명'].unique():\n",
        "        cat2_mean = round(df.query(f'중분류명==\"{y}\"')['구매금액'].mean())\n",
        "        li.append([x,y,cat2_mean])\n",
        "\n",
        "중분류평균금액 = pd.DataFrame(li,columns=['대분류명','중분류명','중분류평균금액'])\n",
        "\n",
        "df = pd.merge(중분류평균금액,대분류평균금액,on='대분류명')\n",
        "\n",
        "def cat_amount(cat1, cat1_mean, cat2_mean):\n",
        "    if cat1_mean*2 <= cat2_mean:\n",
        "        return \"{}고가\".format(cat1)\n",
        "    elif cat1_mean*0.5 <= cat2_mean:\n",
        "        return \"{}중가\".format(cat1)\n",
        "    else:\n",
        "        return \"{}저가\".format(cat1)\n",
        "    \n",
        "df['상품분류'] = df.apply(lambda x: cat_amount(x['대분류명'],x['대분류평균금액'],x['중분류평균금액']),axis=1)\n",
        "ldata['purprd'] = ldata['purprd'].merge(df[['대분류명','중분류명','상품분류']],on=['대분류명','중분류명'])"
      ],
      "id": "4bb234ee",
      "execution_count": null,
      "outputs": []
    },
    {
      "cell_type": "code",
      "metadata": {
        "id": "7e3d9205"
      },
      "source": [
        "def original_cust(df):    \n",
        "    all_cust= pd.pivot_table(df,\n",
        "                  index='고객번호',\n",
        "                  columns='half',\n",
        "                  values='구매금액',\n",
        "                  aggfunc='sum')\n",
        "    original_custom_idx =all_cust.dropna().index.tolist()\n",
        "    original_custom = df.query(f'고객번호 == {original_custom_idx}')\n",
        "    return original_custom\n",
        "\n",
        "기존고객 = original_cust(ldata['purprd'])\n",
        "기존고객idx = 기존고객['고객번호'].unique().tolist()"
      ],
      "id": "7e3d9205",
      "execution_count": null,
      "outputs": []
    },
    {
      "cell_type": "markdown",
      "metadata": {
        "id": "2b50b7b4"
      },
      "source": [
        "# <font color=red>__파생변수😀😀__</font>"
      ],
      "id": "2b50b7b4"
    },
    {
      "cell_type": "code",
      "metadata": {
        "id": "10499c52"
      },
      "source": [
        "# 증감율계산 함수\n",
        "def rate_variation(f1,f2):\n",
        "    rate_variation = (f2-f1)/f1\n",
        "    rate_variation.fillna('부정',inplace=True) # Na : 전 후 둘다 0인 경우\n",
        "    rate_variation.replace({np.inf:'불능'},inplace=True) # inf : 전반기 0인 경우\n",
        "    return rate_variation\n",
        "\n",
        "# 증감폭계산 함수\n",
        "def variation(f1,f2):\n",
        "    variation = abs(f2-f1)\n",
        "    return variation"
      ],
      "id": "10499c52",
      "execution_count": null,
      "outputs": []
    },
    {
      "cell_type": "code",
      "metadata": {
        "id": "c7cfcd56"
      },
      "source": [
        "# 구매횟수 증감\n",
        "def p_freq_ratio(n1,n2):\n",
        "    구매횟수 = pd.pivot_table(기존고객.drop_duplicates('영수증번호'),\n",
        "             index='고객번호',\n",
        "             columns='half',\n",
        "             values='영수증번호',\n",
        "             aggfunc='count').fillna(0)\n",
        "    구매횟수증감 = rate_variation(구매횟수[n1],구매횟수[n2])\n",
        "    return pd.Series(구매횟수증감,name=f'p_freq_ratio')"
      ],
      "id": "c7cfcd56",
      "execution_count": null,
      "outputs": []
    },
    {
      "cell_type": "code",
      "metadata": {
        "id": "f5e82a82"
      },
      "source": [
        "# 대분류별 구매금액증감\n",
        "def cat1_p_amount_ratio(n1,n2):\n",
        "    대분류구매금액합계 = pd.pivot_table(기존고객,\n",
        "              index='고객번호',\n",
        "             columns=['half','대분류명'],\n",
        "              values='구매금액',\n",
        "              aggfunc='sum').fillna(0)\n",
        "    cat1_p_amount = rate_variation(대분류구매금액합계[n1],대분류구매금액합계[n2])\n",
        "    for colname in cat1_p_amount.columns:\n",
        "        cat1_p_amount.rename(columns={colname:f'cat1_{colname}_p_amount_ratio'},inplace=True)\n",
        "    return cat1_p_amount"
      ],
      "id": "f5e82a82",
      "execution_count": null,
      "outputs": []
    },
    {
      "cell_type": "code",
      "metadata": {
        "id": "767f4585"
      },
      "source": [
        "# 대분류별 구매물품수증감\n",
        "def cat1_p_freq_ratio(n1,n2):\n",
        "    대분류구매물품수합계 = pd.pivot_table(기존고객,\n",
        "              index='고객번호',\n",
        "             columns=['half','대분류명'],\n",
        "              values='구매금액',\n",
        "              aggfunc='count').fillna(0)\n",
        "    cat1_p_freq = rate_variation(대분류구매물품수합계[n1],대분류구매물품수합계[n2])\n",
        "    for colname in cat1_p_freq.columns:\n",
        "        cat1_p_freq.rename(columns={colname:f'cat1_{colname}_p_freq_ratio'},inplace=True)\n",
        "    return cat1_p_freq"
      ],
      "id": "767f4585",
      "execution_count": null,
      "outputs": []
    },
    {
      "cell_type": "code",
      "metadata": {
        "id": "d5daed54"
      },
      "source": [
        "# 최대 구매횟수 제휴사(두 반기)\n",
        "def max_affiliate_p_freq(n1,n2):\n",
        "    max_구매횟수 = pd.pivot_table(기존고객.drop_duplicates('영수증번호'),\n",
        "              index='고객번호',\n",
        "              columns=['half','제휴사'],\n",
        "              values='영수증번호',\n",
        "              aggfunc='count')\n",
        "    max1 = pd.Series(max_구매횟수[n1].transpose().idxmax(),name=n1)\n",
        "    max2 = pd.Series(max_구매횟수[n2].transpose().idxmax(),name=n2)\n",
        "    max_affiliate = pd.concat([max1,max2],axis=1)\n",
        "    max_affiliate['max_affiliate'] = max_affiliate.astype(str).apply('_'.join,axis=1)\n",
        "    return max_affiliate['max_affiliate']"
      ],
      "id": "d5daed54",
      "execution_count": null,
      "outputs": []
    },
    {
      "cell_type": "code",
      "metadata": {
        "id": "62dcc7b4"
      },
      "source": [
        "# channel 이용유무 : 이용은 1, 이용안했으면 0\n",
        "def to_binary(x):\n",
        "    if x>0:\n",
        "        return 1\n",
        "    else:\n",
        "        return 0\n",
        "def channel():\n",
        "    channel = pd.pivot_table(ldata['channel'].query(f'고객번호=={기존고객idx}'),\n",
        "                               index='고객번호',\n",
        "                               values='이용횟수',\n",
        "                               aggfunc='sum')\n",
        "    channel1 = pd.pivot_table(기존고객,\n",
        "                  index='고객번호',\n",
        "                  values='제휴사',\n",
        "                  aggfunc='count').join(channel).fillna(0)[['이용횟수']]    \n",
        "    return pd.Series(channel1['이용횟수'].apply(lambda x:to_binary(x)),name='channel')"
      ],
      "id": "62dcc7b4",
      "execution_count": null,
      "outputs": []
    },
    {
      "cell_type": "code",
      "metadata": {
        "id": "63d68d02"
      },
      "source": [
        "# 반기별 구매금액증감  \n",
        "def half_inde(df,*tuple_args):\n",
        "    buy_sum=pd.pivot_table(df,index='고객번호',\n",
        "              columns='half',\n",
        "              values=['구매금액'],\n",
        "              aggfunc={'구매금액':'sum'})\n",
        "    for i in tuple_args:        \n",
        "        buy_sum[f'half_inde'] = (buy_sum[('구매금액',i[1])]-buy_sum[(\"구매금액\",i[0])])/buy_sum[('구매금액',i[0])]\n",
        "        colname = buy_sum.columns.tolist()[:-1]\n",
        "        colname.append(f'half_inde_ratio')\n",
        "        buy_sum.columns = colname    \n",
        "    buy_sum.drop([('구매금액', 1),\n",
        "                  ('구매금액', 2),\n",
        "                  ('구매금액', 3),\n",
        "                  ('구매금액', 4)],axis=1,inplace=True)           \n",
        "    return buy_sum"
      ],
      "id": "63d68d02",
      "execution_count": null,
      "outputs": []
    },
    {
      "cell_type": "code",
      "metadata": {
        "id": "cf4e7414"
      },
      "source": [
        "# 제휴사별 반기별 구매금액증감  \n",
        "def affiliate_half_inde(df,*tuple_args):\n",
        "    affiliate_buy_sum=pd.pivot_table(df,index='고객번호',\n",
        "              columns=['half','제휴사'],\n",
        "              values=['구매금액'],\n",
        "              aggfunc={'구매금액':'sum'})       \n",
        "    for i in tuple_args:\n",
        "        for j in ['A','B','C']:   \n",
        "            affiliate_buy_sum['제휴사 구매증감'] = (affiliate_buy_sum[('구매금액',i[1],j)]-affiliate_buy_sum[('구매금액',i[0],j)])/affiliate_buy_sum[('구매금액',i[0],j)]\n",
        "            colname =affiliate_buy_sum.columns.tolist()[:-1]\n",
        "            colname.append(f'affiliate_half_inde_{j}_ratio')\n",
        "            affiliate_buy_sum.columns = colname\n",
        "    affiliate_buy_sum.fillna('부정',inplace=True) # Na : 전 후 둘다 0인 경우\n",
        "    affiliate_buy_sum.replace({np.inf:'불능'},inplace=True) # inf : 전반기 0인 경우\n",
        "    affiliate_buy_sum.drop([('구매금액',1, 'A'),\n",
        "            ('구매금액',1, 'B'),\n",
        "            ('구매금액',1, 'C'),\n",
        "            ('구매금액',2, 'A'),\n",
        "            ('구매금액',2, 'B'),\n",
        "            ('구매금액',2, 'C'),\n",
        "            ('구매금액',3, 'A'),\n",
        "            ('구매금액',3, 'B'),\n",
        "            ('구매금액',3, 'C'),\n",
        "            ('구매금액',4, 'A'),\n",
        "            ('구매금액',4, 'B'),\n",
        "            ('구매금액',4, 'C'),],axis=1,inplace=True)\n",
        "    return affiliate_buy_sum"
      ],
      "id": "cf4e7414",
      "execution_count": null,
      "outputs": []
    },
    {
      "cell_type": "code",
      "metadata": {
        "id": "4b29ed19"
      },
      "source": [
        "# 제휴사별 구매횟수증감 \n",
        "def buy_count(df,*tuple_args):\n",
        "    count=pd.pivot_table(df.drop_duplicates('영수증번호'),index='고객번호',\n",
        "              columns=['half','제휴사'],\n",
        "              values=['영수증번호'],\n",
        "              aggfunc={'영수증번호':'count'})    \n",
        "    for i in tuple_args:\n",
        "        for j in ['A','B','C']:   \n",
        "            count['제휴사 구매횟수증감'] = (count[('영수증번호',i[1],j)]-count[('영수증번호',i[0],j)])/count[('영수증번호',i[0],j)]\n",
        "            colname =count.columns.tolist()[:-1]\n",
        "            colname.append(f'buy_count_{j}_ratio')\n",
        "            count.columns = colname\n",
        "    count.fillna('부정',inplace=True) # Na : 전 후 둘다 0인 경우\n",
        "    count.replace({np.inf:'불능'},inplace=True) # inf : 전반기 0인 경우\n",
        "    count.drop([('영수증번호', 1,\"A\"),\n",
        "        ('영수증번호', 1,\"B\"),\n",
        "        ('영수증번호', 1,\"C\"),\n",
        "        ('영수증번호', 2,\"A\"),\n",
        "        ('영수증번호', 2,\"B\"),\n",
        "        ('영수증번호', 2,\"C\"),\n",
        "        ('영수증번호', 3,\"A\"),\n",
        "        ('영수증번호', 3,\"B\"),\n",
        "        ('영수증번호', 3,\"C\"),\n",
        "        ('영수증번호', 4,\"A\"),\n",
        "        ('영수증번호', 4,\"B\"),\n",
        "        ('영수증번호', 4,\"C\")],axis=1,inplace=True)  \n",
        "    return count"
      ],
      "id": "4b29ed19",
      "execution_count": null,
      "outputs": []
    },
    {
      "cell_type": "code",
      "metadata": {
        "id": "cc1c21d1"
      },
      "source": [
        "# 일회평균 구매금액 증감\n",
        "def one_buy_mean_diff(df,*args_tuple):\n",
        "    buy_sum=pd.pivot_table(df,index='고객번호',\n",
        "              columns='half',\n",
        "              values=['구매금액'],\n",
        "              aggfunc={'구매금액':'sum'})    \n",
        "    count=pd.pivot_table(df.drop_duplicates('영수증번호'),index='고객번호',\n",
        "              columns='half',\n",
        "              values=['영수증번호'],\n",
        "              aggfunc={'영수증번호':'count'})    \n",
        "    one_buy_mean_diff=buy_sum.join(count)   \n",
        "    for i in args_tuple:\n",
        "        cust_first_mean = one_buy_mean_diff[('구매금액',i[0])]/one_buy_mean_diff[('영수증번호', i[0])]\n",
        "        cust_second_mean = one_buy_mean_diff[('구매금액',i[1])]/one_buy_mean_diff[('영수증번호', i[1])]\n",
        "        one_buy_mean_diff['구매평균증감'] = (cust_second_mean - cust_first_mean)/cust_first_mean\n",
        "        colname = one_buy_mean_diff.columns.tolist()[:-1]\n",
        "        colname.append(f'one_buy_mean_diff_ratio')\n",
        "        one_buy_mean_diff.columns = colname\n",
        "    one_buy_mean_diff.drop([('구매금액', 1),\n",
        "            ('구매금액', 2),\n",
        "            ('구매금액', 3),\n",
        "            ('구매금액', 4),\n",
        "            ('영수증번호', 1),\n",
        "            ('영수증번호', 2),\n",
        "            ('영수증번호', 3),\n",
        "            ('영수증번호', 4)],axis=1,inplace=True)    \n",
        "    return one_buy_mean_diff"
      ],
      "id": "cc1c21d1",
      "execution_count": null,
      "outputs": []
    },
    {
      "cell_type": "code",
      "metadata": {
        "id": "a184debf"
      },
      "source": [
        "# 구매횟수 증감폭\n",
        "def p_freq_wide(n1,n2):\n",
        "    구매횟수 = pd.pivot_table(기존고객.drop_duplicates('영수증번호'),\n",
        "             index='고객번호',\n",
        "             columns='half',\n",
        "             values='영수증번호',\n",
        "             aggfunc='count').fillna(0)\n",
        "    구매횟수증감 = abs(구매횟수[n2]-구매횟수[n1])\n",
        "    return pd.Series(구매횟수증감,name=f'p_freq_wide')"
      ],
      "id": "a184debf",
      "execution_count": null,
      "outputs": []
    },
    {
      "cell_type": "code",
      "metadata": {
        "id": "449d2a48"
      },
      "source": [
        "# 대분류별 구매금액증감폭\n",
        "def cat1_p_amount_wide(n1,n2):\n",
        "    대분류구매금액합계 = pd.pivot_table(기존고객,\n",
        "              index='고객번호',\n",
        "             columns=['half','대분류명'],\n",
        "              values='구매금액',\n",
        "              aggfunc='sum').fillna(0)\n",
        "    cat1_p_amount = abs(대분류구매금액합계[n2]-대분류구매금액합계[n1])\n",
        "    for colname in cat1_p_amount.columns:\n",
        "        cat1_p_amount.rename(columns={colname:f'cat1_{colname}_p_amount_wide'},inplace=True)\n",
        "    return cat1_p_amount"
      ],
      "id": "449d2a48",
      "execution_count": null,
      "outputs": []
    },
    {
      "cell_type": "code",
      "metadata": {
        "id": "49f7d4ee"
      },
      "source": [
        "# 대분류별 구매물품수증감\n",
        "def cat1_p_freq_wide(n1,n2):\n",
        "    대분류구매물품수합계 = pd.pivot_table(기존고객,\n",
        "              index='고객번호',\n",
        "             columns=['half','대분류명'],\n",
        "              values='구매금액',\n",
        "              aggfunc='count').fillna(0)\n",
        "    cat1_p_freq = abs(대분류구매물품수합계[n2]-대분류구매물품수합계[n1])\n",
        "    for colname in cat1_p_freq.columns:\n",
        "        cat1_p_freq.rename(columns={colname:f'cat1_{colname}_p_freq_wide'},inplace=True)\n",
        "    return cat1_p_freq"
      ],
      "id": "49f7d4ee",
      "execution_count": null,
      "outputs": []
    },
    {
      "cell_type": "code",
      "metadata": {
        "id": "a88cf829"
      },
      "source": [
        "# 반기별 구매금액증감폭\n",
        "def half_inde_wide(df,*tuple_args):\n",
        "    buy_sum=pd.pivot_table(df,index='고객번호',\n",
        "              columns='half',\n",
        "              values=['구매금액'],\n",
        "              aggfunc={'구매금액':'sum'})\n",
        "    for i in tuple_args:        \n",
        "        buy_sum[f'half_inde{i[1]}_{i[0]}'] = abs(buy_sum[('구매금액',i[1])]-buy_sum[(\"구매금액\",i[0])])\n",
        "        colname = buy_sum.columns.tolist()[:-1]\n",
        "        colname.append('half_inde_wide')\n",
        "        buy_sum.columns = colname    \n",
        "    buy_sum.drop([('구매금액', 1),\n",
        "            ('구매금액', 2),\n",
        "            ('구매금액', 3),\n",
        "            ('구매금액', 4)],axis=1,inplace=True)        \n",
        "    return buy_sum"
      ],
      "id": "a88cf829",
      "execution_count": null,
      "outputs": []
    },
    {
      "cell_type": "code",
      "metadata": {
        "id": "2c17b9c3"
      },
      "source": [
        "# 제휴사별 반기별 구매금액증감폭\n",
        "def affiliate_half_inde_wide(df,*tuple_args):\n",
        "    affiliate_buy_sum=pd.pivot_table(df,index='고객번호',\n",
        "              columns=['half','제휴사'],\n",
        "              values=['구매금액'],\n",
        "              aggfunc={'구매금액':'sum'})       \n",
        "    for i in tuple_args:\n",
        "        for j in ['A','B','C']:   \n",
        "            affiliate_buy_sum['제휴사 구매증감'] = abs(affiliate_buy_sum[('구매금액',i[1],j)]-affiliate_buy_sum[('구매금액',i[0],j)])\n",
        "            colname =affiliate_buy_sum.columns.tolist()[:-1]\n",
        "            colname.append(f'affiliate_{j}_half_inde_wide')\n",
        "            affiliate_buy_sum.columns = colname\n",
        "    affiliate_buy_sum.fillna(0,inplace=True)        \n",
        "    affiliate_buy_sum.drop([('구매금액',1, 'A'),\n",
        "            ('구매금액',1, 'B'),\n",
        "            ('구매금액',1, 'C'),\n",
        "            ('구매금액',2, 'A'),\n",
        "            ('구매금액',2, 'B'),\n",
        "            ('구매금액',2, 'C'),\n",
        "            ('구매금액',3, 'A'),\n",
        "            ('구매금액',3, 'B'),\n",
        "            ('구매금액',3, 'C'),\n",
        "            ('구매금액',4, 'A'),\n",
        "            ('구매금액',4, 'B'),\n",
        "            ('구매금액',4, 'C'),],axis=1,inplace=True)\n",
        "    return affiliate_buy_sum"
      ],
      "id": "2c17b9c3",
      "execution_count": null,
      "outputs": []
    },
    {
      "cell_type": "code",
      "metadata": {
        "id": "73370d63"
      },
      "source": [
        "# 제휴사별 구매횟수증감폭\n",
        "def buy_count_wide(df,*tuple_args):\n",
        "    count=pd.pivot_table(df.drop_duplicates('영수증번호'),index='고객번호',\n",
        "              columns=['half','제휴사'],\n",
        "              values=['영수증번호'],\n",
        "              aggfunc={'영수증번호':'count'})    \n",
        "    for i in tuple_args:\n",
        "        for j in ['A','B','C']:   \n",
        "            count['제휴사 구매횟수증감'] = abs(count[('영수증번호',i[1],j)]-count[('영수증번호',i[0],j)])\n",
        "            colname =count.columns.tolist()[:-1]\n",
        "            colname.append(f'buy_count_{j}_wide')\n",
        "            count.columns = colname\n",
        "    count.fillna(0,inplace=True)\n",
        "    count.drop([('영수증번호', 1,\"A\"),\n",
        "        ('영수증번호', 1,\"B\"),\n",
        "        ('영수증번호', 1,\"C\"),\n",
        "        ('영수증번호', 2,\"A\"),\n",
        "        ('영수증번호', 2,\"B\"),\n",
        "        ('영수증번호', 2,\"C\"),\n",
        "        ('영수증번호', 3,\"A\"),\n",
        "        ('영수증번호', 3,\"B\"),\n",
        "        ('영수증번호', 3,\"C\"),\n",
        "        ('영수증번호', 4,\"A\"),\n",
        "        ('영수증번호', 4,\"B\"),\n",
        "        ('영수증번호', 4,\"C\")],axis=1,inplace=True)   \n",
        "    return count"
      ],
      "id": "73370d63",
      "execution_count": null,
      "outputs": []
    },
    {
      "cell_type": "code",
      "metadata": {
        "id": "dcc0358c"
      },
      "source": [
        "# 일회평균 구매금액 증감폭\n",
        "def one_buy_mean_diff_wide(df,*args_tuple):\n",
        "    buy_sum=pd.pivot_table(df,index='고객번호',\n",
        "              columns='half',\n",
        "              values=['구매금액'],\n",
        "              aggfunc={'구매금액':'sum'})    \n",
        "    count=pd.pivot_table(df.drop_duplicates('영수증번호'),index='고객번호',\n",
        "              columns='half',\n",
        "              values=['영수증번호'],\n",
        "              aggfunc={'영수증번호':'count'})    \n",
        "    one_buy_mean_diff=buy_sum.join(count)   \n",
        "    for i in args_tuple:\n",
        "        cust_first_mean = one_buy_mean_diff[('구매금액',i[0])]/one_buy_mean_diff[('영수증번호', i[0])]\n",
        "        cust_second_mean = one_buy_mean_diff[('구매금액',i[1])]/one_buy_mean_diff[('영수증번호', i[1])]\n",
        "        one_buy_mean_diff['구매평균증감'] = abs(cust_second_mean - cust_first_mean)\n",
        "        colname = one_buy_mean_diff.columns.tolist()[:-1]\n",
        "        colname.append(f'one_buy_mean_diff_wide')\n",
        "        one_buy_mean_diff.columns = colname\n",
        "    one_buy_mean_diff.drop([('구매금액', 1),\n",
        "            ('구매금액', 2),\n",
        "            ('구매금액', 3),\n",
        "            ('구매금액', 4),\n",
        "            ('영수증번호', 1),\n",
        "            ('영수증번호', 2),\n",
        "            ('영수증번호', 3),\n",
        "            ('영수증번호', 4)],axis=1,inplace=True)    \n",
        "    return one_buy_mean_diff"
      ],
      "id": "dcc0358c",
      "execution_count": null,
      "outputs": []
    },
    {
      "cell_type": "code",
      "metadata": {
        "id": "590507ac"
      },
      "source": [
        "# 가격대별 구매금액 증감율\n",
        "def price_ratio(n1,n2):\n",
        "    def 저중고(x):\n",
        "        if x[-2:] == '저가':\n",
        "            return '저가'\n",
        "        elif x[-2:] == '중가':\n",
        "            return '중가'\n",
        "        elif x[-2:] == '고가':\n",
        "            return '고가'\n",
        "    기존고객['가격대'] = 기존고객['상품분류'].apply(lambda x: 저중고(x))\n",
        "    가격대 = pd.pivot_table(기존고객,\n",
        "                        index='고객번호',\n",
        "                        columns=['half','가격대'],\n",
        "                        values='구매금액',\n",
        "                        aggfunc='sum')\n",
        "    가격대.fillna(0,inplace=True)\n",
        "    가격대증감율 = rate_variation(가격대[n1],가격대[n2])    \n",
        "    for colname in 가격대증감율.columns:\n",
        "        가격대증감율.rename(columns={colname:f'price_{colname}_ratio'},inplace=True)       \n",
        "    return 가격대증감율"
      ],
      "id": "590507ac",
      "execution_count": null,
      "outputs": []
    },
    {
      "cell_type": "code",
      "metadata": {
        "id": "284fd784"
      },
      "source": [
        "# 가격대별 구매금액 증감폭\n",
        "def price_wide(n1,n2):\n",
        "    def 저중고(x):\n",
        "        if x[-2:] == '저가':\n",
        "            return '저가'\n",
        "        elif x[-2:] == '중가':\n",
        "            return '중가'\n",
        "        elif x[-2:] == '고가':\n",
        "            return '고가'\n",
        "    기존고객['가격대'] = 기존고객['상품분류'].apply(lambda x: 저중고(x))\n",
        "    가격대 = pd.pivot_table(기존고객,\n",
        "                        index='고객번호',\n",
        "                        columns=['half','가격대'],\n",
        "                        values='구매금액',\n",
        "                        aggfunc='sum')\n",
        "    가격대.fillna(0,inplace=True)\n",
        "    가격대증감폭 = variation(가격대[n1],가격대[n2])        \n",
        "    for colname in 가격대증감폭.columns:\n",
        "        가격대증감폭.rename(columns={colname:f'price_{colname}_wide'},inplace=True)       \n",
        "    return 가격대증감폭"
      ],
      "id": "284fd784",
      "execution_count": null,
      "outputs": []
    },
    {
      "cell_type": "code",
      "metadata": {
        "id": "29674c69"
      },
      "source": [
        "# 대분류/가격대별 구매금액 증감율\n",
        "def cat1_price_rate(n1,n2):\n",
        "    대분류가격대 = pd.pivot_table(기존고객,\n",
        "                        index='고객번호',\n",
        "                        columns=['half','상품분류'],\n",
        "                        values='구매금액',\n",
        "                        aggfunc='sum')\n",
        "    대분류가격대.fillna(0,inplace=True)\n",
        "    대분류가격대증감율 = rate_variation(대분류가격대[n1],대분류가격대[n2])\n",
        "    for colname in 대분류가격대증감율.columns:\n",
        "        대분류가격대증감율.rename(columns={colname:f'cat1_{colname}_price_ratio'},inplace=True)       \n",
        "    return 대분류가격대증감율"
      ],
      "id": "29674c69",
      "execution_count": null,
      "outputs": []
    },
    {
      "cell_type": "code",
      "metadata": {
        "id": "80756064"
      },
      "source": [
        "# 대분류/가격대별 구매금액 증감폭\n",
        "def cat1_price_wide(n1,n2):\n",
        "    대분류가격대 = pd.pivot_table(기존고객,\n",
        "                        index='고객번호',\n",
        "                        columns=['half','상품분류'],\n",
        "                        values='구매금액',\n",
        "                        aggfunc='sum')\n",
        "    대분류가격대.fillna(0,inplace=True)\n",
        "    대분류가격대증감폭 = variation(대분류가격대[n1],대분류가격대[n2])\n",
        "    for colname in 대분류가격대증감폭.columns:\n",
        "        대분류가격대증감폭.rename(columns={colname:f'cat1_{colname}_price_wide'},inplace=True)       \n",
        "    return 대분류가격대증감폭.fillna(0)"
      ],
      "id": "80756064",
      "execution_count": null,
      "outputs": []
    },
    {
      "cell_type": "code",
      "metadata": {
        "id": "b92fdcd7"
      },
      "source": [
        "# 대분류별 기여율\n",
        "def cont_ratio_cat1(n1,n2):\n",
        "    cat1 = pd.pivot_table(기존고객,\n",
        "                  index='고객번호',\n",
        "                  columns=['half','대분류명'],\n",
        "                  values='구매금액',\n",
        "                  aggfunc='sum')\n",
        "    cat1_1 = cat1[n1].fillna(0)\n",
        "    cat1_1['sum'] = cat1_1.sum(axis=1)\n",
        "    cat1_2 = cat1[n2].fillna(0)\n",
        "    cat1_2['sum'] = cat1_2.sum(axis=1)\n",
        "    cat1기여율 = cat1_2-cat1_1\n",
        "    for i in 기존고객['대분류명'].unique():\n",
        "        cat1기여율[i] = cat1기여율[i].div(cat1기여율['sum'])*100\n",
        "    for colname in cat1기여율.columns:\n",
        "        cat1기여율.rename(columns={colname:f'cat1_{colname}_cont_ratio'},inplace=True)\n",
        "    return cat1기여율.drop('cat1_sum_cont_ratio',axis=1)"
      ],
      "id": "b92fdcd7",
      "execution_count": null,
      "outputs": []
    },
    {
      "cell_type": "code",
      "metadata": {
        "id": "46cfd9e8"
      },
      "source": [
        "# 제휴사별 기여율\n",
        "def cont_ratio_affiliate(n1,n2):\n",
        "    제휴사 = pd.pivot_table(기존고객,\n",
        "                  index='고객번호',\n",
        "                  columns=['half','제휴사'],\n",
        "                  values='구매금액',\n",
        "                  aggfunc='sum')\n",
        "    제휴사1 = 제휴사[n1].fillna(0)\n",
        "    제휴사1['sum'] = 제휴사1.sum(axis=1)\n",
        "    제휴사2 = 제휴사[n2].fillna(0)\n",
        "    제휴사2['sum'] = 제휴사2.sum(axis=1)\n",
        "    제휴사기여율 = 제휴사2-제휴사1\n",
        "    for i in ['A','B','C']:\n",
        "        제휴사기여율[i] = 제휴사기여율[i].div(제휴사기여율['sum'])*100\n",
        "    for colname in 제휴사기여율.columns:\n",
        "        제휴사기여율.rename(columns={colname:f'affiliate_{colname}_cont_ratio'},inplace=True)\n",
        "    return 제휴사기여율.drop('affiliate_sum_cont_ratio',axis=1).fillna(0)"
      ],
      "id": "46cfd9e8",
      "execution_count": null,
      "outputs": []
    },
    {
      "cell_type": "code",
      "metadata": {
        "id": "93f631f1"
      },
      "source": [
        "def class1_p_amount(n1,n2):\n",
        "    분류1구매금액합계 = pd.pivot_table(기존고객,\n",
        "              index='고객번호',\n",
        "             columns=['half','분류1'],\n",
        "              values='구매금액',\n",
        "              aggfunc='sum').fillna(0)\n",
        "    class1_p_amount = rate_variation(분류1구매금액합계[n1],분류1구매금액합계[n2])\n",
        "    for colname in class1_p_amount.columns:\n",
        "        class1_p_amount.rename(columns={colname:f'class1_{colname}_p_amount_ratio'},inplace=True)\n",
        "    return class1_p_amount"
      ],
      "id": "93f631f1",
      "execution_count": null,
      "outputs": []
    },
    {
      "cell_type": "code",
      "metadata": {
        "id": "5a65f586"
      },
      "source": [
        "def class1_p_freq(n1,n2):\n",
        "    분류1구매물품수합계 = pd.pivot_table(기존고객,\n",
        "              index='고객번호',\n",
        "             columns=['half','분류1'],\n",
        "              values='구매금액',\n",
        "              aggfunc='count').fillna(0)\n",
        "    class1_p_freq = rate_variation(분류1구매물품수합계[n1],분류1구매물품수합계[n2])\n",
        "    for colname in class1_p_freq.columns:\n",
        "        class1_p_freq.rename(columns={colname:f'class1_{colname}_p_freq_ratio'},inplace=True)\n",
        "    return class1_p_freq"
      ],
      "id": "5a65f586",
      "execution_count": null,
      "outputs": []
    },
    {
      "cell_type": "code",
      "metadata": {
        "id": "6f810bc6"
      },
      "source": [
        "def class1_p_amount_wide(n1,n2):\n",
        "    분류1구매금액합계 = pd.pivot_table(기존고객,\n",
        "              index='고객번호',\n",
        "             columns=['half','분류1'],\n",
        "              values='구매금액',\n",
        "              aggfunc='sum').fillna(0)\n",
        "    class1_p_amount = abs(분류1구매금액합계[n2]-분류1구매금액합계[n1])\n",
        "    for colname in class1_p_amount.columns:\n",
        "        class1_p_amount.rename(columns={colname:f'class1_{colname}_p_amount_wide'},inplace=True)\n",
        "    return class1_p_amount"
      ],
      "id": "6f810bc6",
      "execution_count": null,
      "outputs": []
    },
    {
      "cell_type": "code",
      "metadata": {
        "id": "183e7028"
      },
      "source": [
        "def class1_p_freq_wide(n1,n2):\n",
        "    분류1구매물품수합계 = pd.pivot_table(기존고객,\n",
        "              index='고객번호',\n",
        "             columns=['half','분류1'],\n",
        "              values='구매금액',\n",
        "              aggfunc='count').fillna(0)\n",
        "    class1_p_freq = abs(분류1구매물품수합계[n2]-분류1구매물품수합계[n1])\n",
        "    for colname in class1_p_freq.columns:\n",
        "        class1_p_freq.rename(columns={colname:f'class1_{colname}_p_freq_wide'},inplace=True)\n",
        "    return class1_p_freq"
      ],
      "id": "183e7028",
      "execution_count": null,
      "outputs": []
    },
    {
      "cell_type": "code",
      "metadata": {
        "id": "4542af1e"
      },
      "source": [
        "def class1_p_freq_net(n1,n2):\n",
        "    분류1구매물품수합계 = pd.pivot_table(기존고객,\n",
        "              index='고객번호',\n",
        "             columns=['half','분류1'],\n",
        "              values='구매금액',\n",
        "              aggfunc='count').fillna(0)\n",
        "    class1_p_freq = 분류1구매물품수합계[n2]-분류1구매물품수합계[n1]\n",
        "    for colname in class1_p_freq.columns:\n",
        "        class1_p_freq.rename(columns={colname:f'class1_{colname}_p_freq_net'},inplace=True)\n",
        "    return class1_p_freq"
      ],
      "id": "4542af1e",
      "execution_count": null,
      "outputs": []
    },
    {
      "cell_type": "code",
      "metadata": {
        "id": "35eb6591"
      },
      "source": [
        "def class1_p_amount_net(n1,n2):\n",
        "    분류1구매금액합계 = pd.pivot_table(기존고객,\n",
        "              index='고객번호',\n",
        "             columns=['half','분류1'],\n",
        "              values='구매금액',\n",
        "              aggfunc='sum').fillna(0)\n",
        "    class1_p_amount = 분류1구매금액합계[n2]-분류1구매금액합계[n1]\n",
        "    for colname in class1_p_amount.columns:\n",
        "        class1_p_amount.rename(columns={colname:f'class1_{colname}_p_amount_net'},inplace=True)\n",
        "    return class1_p_amount"
      ],
      "id": "35eb6591",
      "execution_count": null,
      "outputs": []
    },
    {
      "cell_type": "code",
      "metadata": {
        "id": "481b4785"
      },
      "source": [
        "# 식품비중\n",
        "def food_w(n1,n2):\n",
        "    p_amount = pd.pivot_table(기존고객,\n",
        "                  index='고객번호',\n",
        "                  columns=['half','대분류명'],\n",
        "                  values='구매금액',\n",
        "                  aggfunc='sum')\n",
        "    p_amount_t = p_amount[n1] + p_amount[n2]\n",
        "    p_amount_t['sum'] = p_amount_t.sum(axis=1)\n",
        "    p_amount_t['food_w'] = p_amount_t['가공식품'] + p_amount_t['신선식품']\n",
        "    food_w = p_amount_t['food_w'].div(p_amount_t['sum'],axis=0)*100\n",
        "    return food_w.fillna(0)"
      ],
      "id": "481b4785",
      "execution_count": null,
      "outputs": []
    },
    {
      "cell_type": "code",
      "metadata": {
        "id": "0c96fb68"
      },
      "source": [
        "# 선매품/일상품/전문품 비중\n",
        "def class1_w(n1,n2):\n",
        "    class1_amount = pd.pivot_table(기존고객,\n",
        "                  index='고객번호',\n",
        "                  columns=['half','분류1'],\n",
        "                  values='구매금액',\n",
        "                  aggfunc='sum')\n",
        "    class1_amount_t = class1_amount[n1] + class1_amount[n2]\n",
        "    class1_amount_t['sum'] = class1_amount_t.sum(axis=1)\n",
        "    class1_w = class1_amount_t.drop('sum',axis=1).div(class1_amount_t['sum'],axis=0)*100\n",
        "    for colname in class1_w.columns:\n",
        "        class1_w.rename(columns={colname:f'class1_w_{colname}'},inplace=True)\n",
        "    return  class1_w.fillna(0)"
      ],
      "id": "0c96fb68",
      "execution_count": null,
      "outputs": []
    },
    {
      "cell_type": "code",
      "metadata": {
        "id": "d2cda74d"
      },
      "source": [
        "# 종속변수\n",
        "def label(df,half1,half2):\n",
        "    sale_different = pd.pivot_table(df,index='고객번호',\n",
        "                                   columns = 'half',\n",
        "                                   values = '구매금액',\n",
        "                                   aggfunc= 'sum')\n",
        "    전체증감율 = (sum(sale_different[int(f'{half2}')])-sum(sale_different[int(f'{half1}')]))/sum(sale_different[int(f'{half1}')])\n",
        "    sale_different['label'] = (sale_different[int(f'{half2}')] - sale_different[int(f'{half1}')])/sale_different[int(f'{half1}')]/전체증감율\n",
        "    def to_label(증감):\n",
        "        if 증감>=1:\n",
        "            return 0\n",
        "        else:\n",
        "            return 1\n",
        "    sale_different[f'label'] = sale_different[f'label'].apply(lambda x: to_label(x))\n",
        "    sale_different = sale_different[[f'label']]\n",
        "    sale_different.columns = [f'label'] \n",
        "    return sale_different"
      ],
      "id": "d2cda74d",
      "execution_count": null,
      "outputs": []
    },
    {
      "cell_type": "markdown",
      "metadata": {
        "id": "9e2f02d9"
      },
      "source": [
        " # <font color=red>__데이터셋😀😀__</font>"
      ],
      "id": "9e2f02d9"
    },
    {
      "cell_type": "code",
      "metadata": {
        "id": "80758190"
      },
      "source": [
        "def make_dataset(df,n1,n2,n3):\n",
        "    dataset = pd.DataFrame(p_freq_ratio(n1,n2)).join([cat1_p_amount_ratio(n1,n2), # 반기별구매횟수증감율, 대분류별구매금액증감율\n",
        "                                   cat1_p_freq_ratio(n1,n2), # 대분류별 구매물품수증감율\n",
        "                                   max_affiliate_p_freq(n1,n2), # 최대구매금액제휴사 변동\n",
        "                                   channel(), # 채널이용유무\n",
        "                                   half_inde(df,(n1,n2)), # 반기별구매금액증감율\n",
        "                                   affiliate_half_inde(df,(n1,n2)), # 제휴사별구매금액증감율\n",
        "                                   buy_count(df,(n1,n2)), # 반기별구매횟수증감율\n",
        "                                   one_buy_mean_diff(df,(n1,n2)), # 1회평균구매금액증감율\n",
        "                                                \n",
        "                                   ldata['cust'].set_index('고객번호'), # 성별, 연령대, 거주지역\n",
        "                                                \n",
        "                                   p_freq_wide(n1,n2), # 구매횟수변동폭\n",
        "                                   cat1_p_amount_wide(n1,n2), # 대분류별구매금액변동폭\n",
        "                                   cat1_p_freq_wide(n1,n2), # 대분류별구매물품수변동폭\n",
        "                                   half_inde_wide(df,(n1,n2)), # 반기별구매금액변동폭\n",
        "                                   affiliate_half_inde_wide(df,(n1,n2)), # 제휴사별구매금액변동폭\n",
        "                                   buy_count_wide(df,(n1,n2)), # 반기별구매횟수변동폭\n",
        "                                   one_buy_mean_diff_wide(df,(n1,n2)), # 1회평균구매금액변동폭\n",
        "                                                \n",
        "                                   price_ratio(n1,n2), # 가격대구매금액증감율\n",
        "                                   price_wide(n1,n2), # 가격대구매금액변동폭\n",
        "                                   cat1_price_rate(n1,n2), # 대분류별가격대구매금액증감율\n",
        "                                   cat1_price_wide(n1,n2), # 대분류별가격대구매금액변동폭\n",
        "                                   cont_ratio_cat1(n1,n2), # 대분류별구매금액기여율\n",
        "                                   cont_ratio_affiliate(n1,n2), # 제휴사별구매금액기여율\n",
        "                                                \n",
        "                                   class1_p_amount(n1,n2), # 분류1 구매금액 증감율\n",
        "                                   class1_p_freq(n1,n2), # 분류1 구매횟수 증감율\n",
        "                                   class1_p_amount_wide(n1,n2), # 분류1 구매금액 변동폭\n",
        "                                   class1_p_freq_wide(n1,n2), # 분류1 구매횟수 변동폭\n",
        "                                   class1_p_freq_net(n1,n2), # 분류1 구매횟수 증감\n",
        "                                   class1_p_amount_net(n1,n2), # 분류1 구매금액 증감\n",
        "                                   label(df,n1,n3)]) # 종속변수\n",
        "    return dataset\n",
        "\n",
        "dataset1_2 = make_dataset(기존고객,1,2,3)\n",
        "dataset2_3 = make_dataset(기존고객,2,3,4)"
      ],
      "id": "80758190",
      "execution_count": null,
      "outputs": []
    },
    {
      "cell_type": "code",
      "metadata": {
        "id": "948a3887"
      },
      "source": [
        "#### 카테고리 전\n",
        "dataset1_2.to_excel('dataset_1017/dataset1_2.xlsx')\n",
        "dataset2_3.to_excel('dataset_1017/dataset2_3.xlsx')"
      ],
      "id": "948a3887",
      "execution_count": null,
      "outputs": []
    },
    {
      "cell_type": "markdown",
      "metadata": {
        "id": "6686863a"
      },
      "source": [
        "## 범주화"
      ],
      "id": "6686863a"
    },
    {
      "cell_type": "code",
      "metadata": {
        "id": "43d364e3"
      },
      "source": [
        "dataset1_2_cat = dataset1_2.copy()\n",
        "dataset2_3_cat = dataset2_3.copy()"
      ],
      "id": "43d364e3",
      "execution_count": null,
      "outputs": []
    },
    {
      "cell_type": "code",
      "metadata": {
        "id": "1e58bc33"
      },
      "source": [
        "dataset1_2_cat.drop(['cat1_기타저가_price_ratio','cat1_기타저가_price_wide','cat1_의약고가_price_wide','cat1_의약저가_price_ratio','cat1_의약중가_price_ratio','cat1_의약고가_price_ratio'],axis=1,inplace=True)\n",
        "dataset2_3_cat.drop(['cat1_기타저가_price_ratio','cat1_기타저가_price_wide','cat1_의약고가_price_wide','cat1_의약저가_price_ratio','cat1_의약중가_price_ratio','cat1_의약고가_price_ratio'],axis=1,inplace=True)"
      ],
      "id": "1e58bc33",
      "execution_count": null,
      "outputs": []
    },
    {
      "cell_type": "code",
      "metadata": {
        "id": "356e8d8c"
      },
      "source": [
        "# 카테고리 대상 컬럼  \n",
        "\n",
        "to_cat_columns =list(dataset1_2_cat.columns[dataset1_2_cat.columns.str.contains('ratio')])\n",
        "to_cat_wide_columns = list(dataset1_2_cat.columns[dataset1_2_cat.columns.str.contains('wide')])\n",
        "to_cat_net_columns = list(dataset1_2_cat.columns[dataset1_2_cat.columns.str.contains('net')])\n",
        "le_columns = ['성별','연령대','거주지역','max_affiliate']"
      ],
      "id": "356e8d8c",
      "execution_count": null,
      "outputs": []
    },
    {
      "cell_type": "code",
      "metadata": {
        "id": "bbef1674"
      },
      "source": [
        "def to_cat(df, col,n=4):\n",
        "    data = df[col]\n",
        "    data_float = data[(data!='불능')&(data!='부정')].astype(float)\n",
        "    if len(data_float) != 0:\n",
        "        data_minus = data_float[data_float<=0]\n",
        "        data_minus_qcut = pd.cut(data_minus,n,labels=list(range(1,n+1)))\n",
        "\n",
        "        data_plus = data_float[(0<data_float)&(data_float<=1)]\n",
        "        data_plus_qcut = pd.cut(data_plus,n,labels=list(range(1+n,n*2+1)))\n",
        "\n",
        "        data_float[1<data_float] = 2*n+1\n",
        "        data_outlier = data_float[1<data_float]\n",
        "\n",
        "        data_object = data[(data=='불능')|(data=='부정')]\n",
        "        data_object.replace({'부정':0,'불능':2*n+2},inplace=True)\n",
        "        return pd.concat([data_minus_qcut,data_plus_qcut,data_outlier,data_object])\n",
        "    \n",
        "    else:\n",
        "        data_object = data[(data=='불능')|(data=='부정')]\n",
        "        data_object.replace({'부정':0,'불능':1},inplace=True)\n",
        "        return data_object\n",
        "\n",
        "for i in to_cat_columns:\n",
        "    dataset1_2_cat[i] = to_cat(dataset1_2_cat,i)\n",
        "for i in to_cat_columns:\n",
        "    dataset2_3_cat[i] = to_cat(dataset2_3_cat,i)"
      ],
      "id": "bbef1674",
      "execution_count": null,
      "outputs": []
    },
    {
      "cell_type": "code",
      "metadata": {
        "id": "8571622b"
      },
      "source": [
        "from sklearn.preprocessing import LabelEncoder\n",
        "\n",
        "le = LabelEncoder()\n",
        "\n",
        "for i in le_columns:\n",
        "    dataset1_2_cat[i] = le.fit_transform(dataset1_2_cat[i])\n",
        "for i in le_columns:\n",
        "    dataset2_3_cat[i] = le.fit_transform(dataset2_3_cat[i])"
      ],
      "id": "8571622b",
      "execution_count": null,
      "outputs": []
    },
    {
      "cell_type": "code",
      "metadata": {
        "id": "aa6ac758"
      },
      "source": [
        "def to_cat_wide(df,col,n=4):\n",
        "    data = df[col]\n",
        "    q1, q3 = np.percentile(df[col],[25,75])    \n",
        "    iqr=q3 - q1    \n",
        "    lower_bound = q1-(iqr * 1.5)\n",
        "    upper_bound = q3+(iqr * 1.5)\n",
        "\n",
        "    def deny(x):\n",
        "        if x >upper_bound:\n",
        "            return \"up\"\n",
        "        elif x < lower_bound:\n",
        "            return \"lo\"\n",
        "        else:\n",
        "            return x\n",
        "\n",
        "    data = df[col].apply(deny)\n",
        "    data_float = data[(data!='lo')&(data!='up')].astype(float)\n",
        "\n",
        "    if len(data_float) != 0:\n",
        "        data_float_cut = pd.cut(data_float,n,labels=list(range(1,n+1)))\n",
        "\n",
        "        data_object = data[(data=='lo')|(data=='up')]\n",
        "        data_object.replace({'up':n+1,'lo':0},inplace=True)\n",
        "\n",
        "        return pd.concat([data_float_cut,data_object])\n",
        "        \n",
        "    else:\n",
        "        return df[col].fillna(0)\n",
        "\n",
        "for i in to_cat_wide_columns:\n",
        "    dataset1_2_cat[i] = to_cat_wide(dataset1_2_cat,i)\n",
        "for i in to_cat_wide_columns:\n",
        "    dataset2_3_cat[i] = to_cat_wide(dataset2_3_cat,i)"
      ],
      "id": "aa6ac758",
      "execution_count": null,
      "outputs": []
    },
    {
      "cell_type": "code",
      "metadata": {
        "id": "2202bb43"
      },
      "source": [
        "def to_cat_net(df,col,n=4):\n",
        "    data = df[col]\n",
        "    q1, q3 = np.percentile(df[col],[25,75])    \n",
        "    iqr=q3 - q1    \n",
        "    lower_bound = q1-(iqr * 1.5)\n",
        "    upper_bound = q3+(iqr * 1.5)\n",
        "\n",
        "    def deny(x):\n",
        "        if x >upper_bound:\n",
        "            return \"up\"\n",
        "        elif x < lower_bound:\n",
        "            return \"lo\"\n",
        "        else:\n",
        "            return x\n",
        "\n",
        "    data = df[col].apply(deny)\n",
        "    data_float = data[(data!='lo')&(data!='up')].astype(float)\n",
        "\n",
        "    if len(data_float) != 0:\n",
        "        data_float_cut = pd.cut(data_float,n+1,labels=list(range(1,n+2)))\n",
        "\n",
        "        data_object = data[(data=='lo')|(data=='up')]\n",
        "        data_object.replace({'up':n+2,'lo':0},inplace=True)\n",
        "\n",
        "        return pd.concat([data_float_cut,data_object])\n",
        "        \n",
        "    else:\n",
        "        return df[col].fillna(0)\n",
        "    \n",
        "for i in to_cat_net_columns:\n",
        "    dataset1_2_cat[i] = to_cat_net(dataset1_2_cat,i)\n",
        "for i in to_cat_net_columns:\n",
        "    dataset2_3_cat[i] = to_cat_net(dataset2_3_cat,i)"
      ],
      "id": "2202bb43",
      "execution_count": null,
      "outputs": []
    },
    {
      "cell_type": "code",
      "metadata": {
        "id": "38994422"
      },
      "source": [
        "#### 카테고리 후\n",
        "dataset1_2_cat.to_excel('dataset_1017/dataset1_2_cat.xlsx')\n",
        "dataset2_3_cat.to_excel('dataset_1017/dataset2_3_cat.xlsx')"
      ],
      "id": "38994422",
      "execution_count": null,
      "outputs": []
    },
    {
      "cell_type": "markdown",
      "metadata": {
        "id": "h-0gigb_5Ft3"
      },
      "source": [
        "### 모델링"
      ],
      "id": "h-0gigb_5Ft3"
    },
    {
      "cell_type": "code",
      "metadata": {
        "id": "LHd3deYS44Dr"
      },
      "source": [
        "from sklearn.tree import DecisionTreeClassifier\n",
        "from sklearn.ensemble import RandomForestClassifier\n",
        "from sklearn.model_selection import train_test_split, cross_val_score, cross_validate, GridSearchCV\n",
        "from sklearn.metrics import accuracy_score\n",
        "from sklearn.linear_model import LogisticRegression\n",
        "import sklearn.svm as svm\n",
        "import sklearn.metrics as mt\n",
        "from xgboost import plot_importance\n",
        "from xgboost import XGBClassifier\n",
        "from lightgbm import LGBMClassifier, plot_importance"
      ],
      "id": "LHd3deYS44Dr",
      "execution_count": null,
      "outputs": []
    },
    {
      "cell_type": "code",
      "metadata": {
        "id": "WMZWAVQK5bJJ"
      },
      "source": [
        "# 3기 예측\n",
        "\n",
        "X = dataset1_2.astype(float).drop('label',axis=1)\n",
        "y = dataset1_2['label']\n",
        "\n",
        "X_train, X_test, y_train, y_test = train_test_split(X,y,test_size = 0.3,random_state = 4)\n",
        "\n",
        "def metric(y_test, pred):\n",
        "    print('-----------------------------')\n",
        "    print('정확도 : ',round(mt.accuracy_score(y_test, pred),2))\n",
        "    print('정밀도 : ',round(mt.precision_score(y_test, pred),2))\n",
        "    print('재현율 : ',round(mt.recall_score(y_test, pred),2))\n",
        "    print('f1 : ',round(mt.f1_score(y_test, pred),2))\n",
        "    print('\\n')\n",
        "    \n",
        "dct = DecisionTreeClassifier(criterion = 'entropy',max_depth = 10,random_state=2)\n",
        "rfc = RandomForestClassifier(n_estimators = 10)\n",
        "log = LogisticRegression()\n",
        "\n",
        "rfc.fit(X_train, y_train)\n",
        "dct.fit(X_train, y_train)\n",
        "log.fit(X_train, y_train)\n",
        "\n",
        "dct_pred = dct.predict(X_test)\n",
        "rfc_pred = rfc.predict(X_test)\n",
        "log_pred = log.predict(X_test)\n",
        "\n",
        "xgb_clf = XGBClassifier(n_estimators=300, random_state=156, learning_rate=0.1, max_depth=5) \n",
        "xgb_clf.fit(X_train, y_train,\n",
        "           eval_metric='auc', eval_set=[(X_train,y_train),(X_test,y_test)],verbose=False)\n",
        "xgb_pred = xgb_clf.predict(X_test)\n",
        "\n",
        "\n",
        "lgb = LGBMClassifier()\n",
        "lgb.fit(X_train, y_train)\n",
        "lgb_pred = lgb.predict(X_test)\n",
        "\n",
        "print('로지스틱')\n",
        "metric(y_test, log_pred)\n",
        "print('랜덤포레스트')\n",
        "metric(y_test, rfc_pred)\n",
        "print('디시젼')\n",
        "metric(y_test, dct_pred)\n",
        "print('XGB')\n",
        "metric(y_test, xgb_pred)\n",
        "print('LightGBM')\n",
        "metric(y_test, lgb_pred)"
      ],
      "id": "WMZWAVQK5bJJ",
      "execution_count": null,
      "outputs": []
    },
    {
      "cell_type": "code",
      "metadata": {
        "id": "5zMjJ-l95i7C"
      },
      "source": [
        "# 1~3기 예측 모델 적용해서 4기 예측\n",
        "\n",
        "X_test1 = dataset2_3.astype(float).drop('label',axis=1)\n",
        "y_test1 = dataset2_3['label']\n",
        "\n",
        "dct_pred1 = dct.predict(X_test1)\n",
        "rfc_pred1 = rfc.predict(X_test1)\n",
        "log_pred1 = log.predict(X_test1)\n",
        "xgb_pred1 = xgb_clf.predict(X_test1)\n",
        "lgb_pred1 = lgb.predict(X_test1)\n",
        "\n",
        "print('로지스틱')\n",
        "metric(y_test1, log_pred1)\n",
        "print('랜덤포레스트')\n",
        "metric(y_test1, rfc_pred1)\n",
        "print('디시젼')\n",
        "metric(y_test1, dct_pred1)\n",
        "print('XGB')\n",
        "metric(y_test1, xgb_pred1)\n",
        "print('LightGBM')\n",
        "metric(y_test1, lgb_pred1)"
      ],
      "id": "5zMjJ-l95i7C",
      "execution_count": null,
      "outputs": []
    },
    {
      "cell_type": "code",
      "metadata": {
        "id": "Kg2wHUdZ5w6C"
      },
      "source": [
        "# 로지스틱 회귀계수로 피처 선택 후 학습 및 예측\n",
        "import statsmodels.api as sm\n",
        "summary=sm.Logit(y, X).fit().summary().tables[1].as_html()\n",
        "pvalues = pd.read_html(summary, header=0, index_col=0)[0]\n",
        "display(pvalues,pvalues.iloc[:,3][pvalues.iloc[:,3]<0.05])\n",
        "\n",
        "columns = pvalues.iloc[:,3][pvalues.iloc[:,3]<0.05].index.tolist()\n",
        "\n",
        "# X = dataset_last1_2_cat1.drop('label',axis=1)\n",
        "# y = dataset_last1_2_cat1['label']\n",
        "\n",
        "X_train, X_test, y_train, y_test = train_test_split(X,y,test_size = 0.3,random_state = 4)\n",
        "\n",
        "def metric(y_test, pred):\n",
        "    print('-----------------------------')\n",
        "    print('정확도 : ',round(mt.accuracy_score(y_test, pred),2))\n",
        "    print('정밀도 : ',round(mt.precision_score(y_test, pred),2))\n",
        "    print('재현율 : ',round(mt.recall_score(y_test, pred),2))\n",
        "    print('f1 : ',round(mt.f1_score(y_test, pred),2))\n",
        "    print('\\n')\n",
        "    \n",
        "dct = DecisionTreeClassifier(criterion = 'entropy',max_depth = 10,random_state=2)\n",
        "rfc = RandomForestClassifier(n_estimators = 10)\n",
        "log = LogisticRegression()\n",
        "\n",
        "rfc.fit(X_train, y_train)\n",
        "dct.fit(X_train, y_train)\n",
        "log.fit(X_train, y_train)\n",
        "\n",
        "dct_pred = dct.predict(X_test)\n",
        "rfc_pred = rfc.predict(X_test)\n",
        "log_pred = log.predict(X_test)\n",
        "\n",
        "xgb_clf = XGBClassifier(n_estimators=1000, random_state=156, learning_rate=0.01, max_depth=5) \n",
        "xgb_clf.fit(X_train, y_train, early_stopping_rounds=100,\n",
        "           eval_metric='auc', eval_set=[(X_train,y_train),(X_test,y_test)],verbose=False)\n",
        "xgb_pred = xgb_clf.predict(X_test)\n",
        "\n",
        "lgb = LGBMClassifier()\n",
        "lgb.fit(X_train, y_train)\n",
        "lgb_pred = lgb.predict(X_test)\n",
        "\n",
        "print('로지스틱')\n",
        "metric(y_test, log_pred)\n",
        "print('랜덤포레스트')\n",
        "metric(y_test, rfc_pred)\n",
        "print('디시젼')\n",
        "metric(y_test, dct_pred)\n",
        "print('XGB')\n",
        "metric(y_test, xgb_pred)\n",
        "print('LightGBM')\n",
        "metric(y_test, lgb_pred)"
      ],
      "id": "Kg2wHUdZ5w6C",
      "execution_count": null,
      "outputs": []
    },
    {
      "cell_type": "code",
      "metadata": {
        "id": "A1K4IpE36EOo"
      },
      "source": [
        "# feature importance 확인\n",
        "\n",
        "\n",
        "from xgboost import XGBClassifier\n",
        "\n",
        "model = XGBClassifier(random_state=4)\n",
        "model.fit(X_train, y_train)\n",
        "\n",
        "ft_importance_values = model.feature_importances_\n",
        "\n",
        "ft_series = pd.Series(ft_importance_values, index = X_train.columns)\n",
        "ft_top30 = ft_series.sort_values(ascending=False)[:30]\n",
        "\n",
        "plt.figure(figsize=(10,10))\n",
        "plt.title('Feature Importance Top 20')\n",
        "sns.barplot(x=ft_top30, y=ft_top30.index)\n",
        "plt.show()"
      ],
      "id": "A1K4IpE36EOo",
      "execution_count": null,
      "outputs": []
    },
    {
      "cell_type": "markdown",
      "metadata": {
        "id": "G_0VewXD6TQb"
      },
      "source": [
        "### 감소고객 군집화 및 DecisionTree 시각화"
      ],
      "id": "G_0VewXD6TQb"
    },
    {
      "cell_type": "code",
      "metadata": {
        "id": "BMeltPMA6kla"
      },
      "source": [
        "month = dataset1_2.columns[dataset1_2.columns.str.contains('month')]\n",
        "dataset1_2.drop(month,axis=1,inplace=True)\n",
        "month1 = dataset2_3.columns[dataset2_3.columns.str.contains('month')]\n",
        "dataset2_3.drop(month1,axis=1,inplace=True)\n",
        "\n",
        "# 4기 감소고객\n",
        "감소고객 = dataset2_3[dataset2_3['label']==1]\n",
        "\n",
        "from sklearn.cluster import KMeans\n",
        "%matplotlib inline\n",
        "\n",
        "from yellowbrick.cluster import KElbowVisualizer\n",
        " \n",
        "x = 감소고객[['cat1_p_amount_가공식품_ratio',\n",
        "'cat1_p_amount_기타_ratio',     \n",
        "'cat1_p_amount_미용품_ratio',      \n",
        "'cat1_p_amount_스포츠레저_ratio', \n",
        "'cat1_p_amount_신선식품_ratio',    \n",
        "'cat1_p_freq_가공식품_ratio',       \n",
        "'cat1_p_freq_기타_ratio',         \n",
        "'cat1_p_freq_신선식품_ratio',       \n",
        "'cat1_p_freq_일상용품_ratio',       \n",
        "'max_affiliate',                \n",
        "'half_inde_ratio',              \n",
        "'rate_p_freq_wide',             \n",
        "'cat1_p_amount_인테리어_wide',      \n",
        "'cat1_p_freq_스포츠레저_wide',       \n",
        "'cat1_p_freq_신선식품_wide',        \n",
        "'buy_count_A_wide',             \n",
        "'price_ratio_고가',               \n",
        "'price_ratio_저가',              \n",
        "'price_ratio_중가',               \n",
        "'price_wide_고가',               \n",
        "'price_wide_저가',                \n",
        "'cat1_price_ratio_교육문화고가',      \n",
        "'cat1_price_ratio_기타고가',        \n",
        "'cat1_price_ratio_기타중가',        \n",
        "'cat1_price_ratio_디지털고가',       \n",
        "'cat1_price_ratio_디지털저가',       \n",
        "'cat1_price_ratio_디지털중가',       \n",
        "'cat1_price_ratio_스포츠레저중가',     \n",
        "'cat1_price_ratio_인테리어고가',      \n",
        "'cat1_price_ratio_패션잡화중가',      \n",
        "'cat1_price_wide_가공식품중가',       \n",
        "'cat1_price_wide_교육문화고가',       \n",
        "'cat1_price_wide_기타고가',         \n",
        "'cat1_price_wide_디지털고가',        \n",
        "'cat1_price_wide_디지털저가',        \n",
        "'cat1_price_wide_스포츠레저저가',      \n",
        "'cat1_price_wide_신선식품중가',       \n",
        "'cat1_price_wide_의약저가',         \n",
        "'cat1_price_wide_인테리어고가',       \n",
        "'cat1_price_wide_인테리어중가',       \n",
        "'cont_ratio_cat1가공식품',          \n",
        "'cont_ratio_cat1디지털',           \n",
        "'cont_ratio_affiliateA',        \n",
        "'class1_p_amount_선매품_ratio',    \n",
        "'class1_p_amount_선매품_wide',     \n",
        "'class1_p_freq_편의품_wide',       \n",
        "'class1_p_freq_편의품_net']]\n",
        "\n",
        "\n",
        "def elbow(X):\n",
        "    sse = []\n",
        "\n",
        "    for i in range(1,11):\n",
        "        km = KMeans(n_clusters=i,algorithm='auto', random_state=42)\n",
        "        km.fit(X)\n",
        "        sse.append(km.inertia_)\n",
        "\n",
        "    plt.plot(range(1,11), sse, marker='o')\n",
        "    plt.xlabel('K')\n",
        "    plt.ylabel('SSE')\n",
        "    plt.show()\n",
        "\n",
        "elbow(x)"
      ],
      "id": "BMeltPMA6kla",
      "execution_count": null,
      "outputs": []
    },
    {
      "cell_type": "code",
      "metadata": {
        "id": "NfRTymyk7V9f"
      },
      "source": [
        "def visualize_silhouette(cluster_lists, X_features): \n",
        "\n",
        "    from sklearn.datasets import make_blobs\n",
        "    from sklearn.cluster import KMeans\n",
        "    from sklearn.metrics import silhouette_samples, silhouette_score\n",
        "\n",
        "    import matplotlib.pyplot as plt\n",
        "    import matplotlib.cm as cm\n",
        "    import math\n",
        "\n",
        "    # 입력값으로 클러스터링 갯수들을 리스트로 받아서, 각 갯수별로 클러스터링을 적용하고 실루엣 개수를 구함\n",
        "    n_cols = len(cluster_lists)\n",
        "\n",
        "    # plt.subplots()으로 리스트에 기재된 클러스터링 수만큼의 sub figures를 가지는 axs 생성 \n",
        "    fig, axs = plt.subplots(figsize=(4*n_cols, 4), nrows=1, ncols=n_cols)\n",
        "\n",
        "    # 리스트에 기재된 클러스터링 갯수들을 차례로 iteration 수행하면서 실루엣 개수 시각화\n",
        "    for ind, n_cluster in enumerate(cluster_lists):\n",
        "\n",
        "        # KMeans 클러스터링 수행하고, 실루엣 스코어와 개별 데이터의 실루엣 값 계산. \n",
        "        clusterer = KMeans(n_clusters = n_cluster, max_iter=500, random_state=0)\n",
        "        cluster_labels = clusterer.fit_predict(X_features)\n",
        "\n",
        "        sil_avg = silhouette_score(X_features, cluster_labels)\n",
        "        sil_values = silhouette_samples(X_features, cluster_labels)\n",
        "\n",
        "        y_lower = 10\n",
        "        axs[ind].set_title('Number of Cluster : '+ str(n_cluster)+'\\n' \\\n",
        "                          'Silhouette Score :' + str(round(sil_avg,3)) )\n",
        "        axs[ind].set_xlabel(\"The silhouette coefficient values\")\n",
        "        axs[ind].set_ylabel(\"Cluster label\")\n",
        "        axs[ind].set_xlim([-0.1, 1])\n",
        "        axs[ind].set_ylim([0, len(X_features) + (n_cluster + 1) * 10])\n",
        "        axs[ind].set_yticks([])  # Clear the yaxis labels / ticks\n",
        "        axs[ind].set_xticks([0, 0.2, 0.4, 0.6, 0.8, 1])\n",
        "\n",
        "        # 클러스터링 갯수별로 fill_betweenx( )형태의 막대 그래프 표현. \n",
        "        for i in range(n_cluster):\n",
        "            ith_cluster_sil_values = sil_values[cluster_labels==i]\n",
        "            ith_cluster_sil_values.sort()\n",
        "\n",
        "            size_cluster_i = ith_cluster_sil_values.shape[0]\n",
        "            y_upper = y_lower + size_cluster_i\n",
        "\n",
        "            color = cm.nipy_spectral(float(i) / n_cluster)\n",
        "            axs[ind].fill_betweenx(np.arange(y_lower, y_upper), 0, ith_cluster_sil_values, \\\n",
        "                                facecolor=color, edgecolor=color, alpha=0.7)\n",
        "            axs[ind].text(-0.05, y_lower + 0.5 * size_cluster_i, str(i))\n",
        "            y_lower = y_upper + 10\n",
        "\n",
        "        axs[ind].axvline(x=sil_avg, color=\"red\", linestyle=\"--\")\n",
        "\n",
        "        \n",
        "\n",
        "\n",
        "import numpy as np\n",
        "# make_blobs 을 통해 clustering 을 위한 4개의 클러스터 중심의 500개 2차원 데이터 셋 생성  \n",
        "from sklearn.datasets import make_blobs\n",
        "X, y = make_blobs(n_samples=500, n_features=2, centers=4, cluster_std=1, \\\n",
        "                  center_box=(-10.0, 10.0), shuffle=True, random_state=1)  \n",
        "\n",
        "# cluster 개수를 2개, 3개, 4개, 5개 일때의 클러스터별 실루엣 계수 평균값을 시각화 \n",
        "visualize_silhouette([ 2, 3, 4, 5], X)"
      ],
      "id": "NfRTymyk7V9f",
      "execution_count": null,
      "outputs": []
    },
    {
      "cell_type": "code",
      "metadata": {
        "id": "W5szxTbC67Zn"
      },
      "source": [
        "kmeans = KMeans(n_clusters=4, init='k-means++', max_iter=300, random_state=0)\n",
        "kmeans.fit(x)\n",
        "감소고객['cluster']=kmeans.labels_"
      ],
      "id": "W5szxTbC67Zn",
      "execution_count": null,
      "outputs": []
    },
    {
      "cell_type": "code",
      "metadata": {
        "id": "xiq3PAfl6amd"
      },
      "source": [
        "group0 = 감소고객[감소고객['cluster']==0]\n",
        "group1 = 감소고객[감소고객['cluster']==1]\n",
        "group2 = 감소고객[감소고객['cluster']==2]\n",
        "group3 = 감소고객[감소고객['cluster']==3]"
      ],
      "id": "xiq3PAfl6amd",
      "execution_count": null,
      "outputs": []
    },
    {
      "cell_type": "code",
      "metadata": {
        "id": "slj0ajc47D81"
      },
      "source": [
        "from sklearn.tree import export_graphviz\n",
        "\n",
        "export_graphviz(dt_clf, out_file='tree.dot',class_names=['0','1','2','3'], feature_names=['cat1_p_amount_가공식품_ratio',\n",
        "'cat1_p_amount_기타_ratio',     \n",
        "'cat1_p_amount_미용품_ratio',      \n",
        "'cat1_p_amount_스포츠레저_ratio', \n",
        "'cat1_p_amount_신선식품_ratio',    \n",
        "'cat1_p_freq_가공식품_ratio',       \n",
        "'cat1_p_freq_기타_ratio',         \n",
        "'cat1_p_freq_신선식품_ratio',       \n",
        "'cat1_p_freq_일상용품_ratio',       \n",
        "'max_affiliate',                \n",
        "'half_inde_ratio',              \n",
        "'rate_p_freq_wide',             \n",
        "'cat1_p_amount_인테리어_wide',      \n",
        "'cat1_p_freq_스포츠레저_wide',       \n",
        "'cat1_p_freq_신선식품_wide',        \n",
        "'buy_count_A_wide',             \n",
        "'price_ratio_고가',               \n",
        "'price_ratio_저가',              \n",
        "'price_ratio_중가',               \n",
        "'price_wide_고가',               \n",
        "'price_wide_저가',                \n",
        "'cat1_price_ratio_교육문화고가',      \n",
        "'cat1_price_ratio_기타고가',        \n",
        "'cat1_price_ratio_기타중가',        \n",
        "'cat1_price_ratio_디지털고가',       \n",
        "'cat1_price_ratio_디지털저가',       \n",
        "'cat1_price_ratio_디지털중가',       \n",
        "'cat1_price_ratio_스포츠레저중가',     \n",
        "'cat1_price_ratio_인테리어고가',      \n",
        "'cat1_price_ratio_패션잡화중가',      \n",
        "'cat1_price_wide_가공식품중가',       \n",
        "'cat1_price_wide_교육문화고가',       \n",
        "'cat1_price_wide_기타고가',         \n",
        "'cat1_price_wide_디지털고가',        \n",
        "'cat1_price_wide_디지털저가',        \n",
        "'cat1_price_wide_스포츠레저저가',      \n",
        "'cat1_price_wide_신선식품중가',       \n",
        "'cat1_price_wide_의약저가',         \n",
        "'cat1_price_wide_인테리어고가',       \n",
        "'cat1_price_wide_인테리어중가',       \n",
        "'cont_ratio_cat1가공식품',          \n",
        "'cont_ratio_cat1디지털',           \n",
        "'cont_ratio_affiliateA',        \n",
        "'class1_p_amount_선매품_ratio',    \n",
        "'class1_p_amount_선매품_wide',     \n",
        "'class1_p_freq_편의품_wide',       \n",
        "'class1_p_freq_편의품_net'], impurity=True, filled=True)"
      ],
      "id": "slj0ajc47D81",
      "execution_count": null,
      "outputs": []
    },
    {
      "cell_type": "code",
      "metadata": {
        "id": "0GbiRoU77JGs"
      },
      "source": [
        "import graphviz\n",
        "\n",
        "with  open('tree.dot',encoding='UTF8') as f:\n",
        "    dot_graph = f.read()\n",
        "graphviz.Source(dot_graph)"
      ],
      "id": "0GbiRoU77JGs",
      "execution_count": null,
      "outputs": []
    }
  ]
}